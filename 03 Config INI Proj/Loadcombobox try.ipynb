{
 "cells": [
  {
   "cell_type": "code",
   "execution_count": 1,
   "id": "d7cb7846",
   "metadata": {},
   "outputs": [
    {
     "ename": "NameError",
     "evalue": "name 'load_ini_file' is not defined",
     "output_type": "error",
     "traceback": [
      "\u001b[1;31m---------------------------------------------------------------------------\u001b[0m",
      "\u001b[1;31mNameError\u001b[0m                                 Traceback (most recent call last)",
      "Cell \u001b[1;32mIn[1], line 13\u001b[0m\n\u001b[0;32m     11\u001b[0m \u001b[38;5;66;03m# Load the INI file\u001b[39;00m\n\u001b[0;32m     12\u001b[0m ini_file \u001b[38;5;241m=\u001b[39m \u001b[38;5;124m\"\u001b[39m\u001b[38;5;124mconfig.ini\u001b[39m\u001b[38;5;124m\"\u001b[39m  \u001b[38;5;66;03m# Replace with your actual ini file path\u001b[39;00m\n\u001b[1;32m---> 13\u001b[0m config \u001b[38;5;241m=\u001b[39m load_ini_file(ini_file)\n\u001b[0;32m     15\u001b[0m \u001b[38;5;66;03m# Create a label\u001b[39;00m\n\u001b[0;32m     16\u001b[0m tk\u001b[38;5;241m.\u001b[39mLabel(root, text\u001b[38;5;241m=\u001b[39m\u001b[38;5;124m\"\u001b[39m\u001b[38;5;124mSelect Study\u001b[39m\u001b[38;5;124m\"\u001b[39m, font\u001b[38;5;241m=\u001b[39m(\u001b[38;5;124m'\u001b[39m\u001b[38;5;124mArial\u001b[39m\u001b[38;5;124m'\u001b[39m, \u001b[38;5;241m12\u001b[39m))\u001b[38;5;241m.\u001b[39mpack(pady\u001b[38;5;241m=\u001b[39m\u001b[38;5;241m10\u001b[39m)\n",
      "\u001b[1;31mNameError\u001b[0m: name 'load_ini_file' is not defined"
     ]
    }
   ],
   "source": [
    "#UI for reading ini config file -- initial stage\n",
    "import tkinter as tk\n",
    "from tkinter import ttk\n",
    "import configparser\n",
    "\n",
    "# Create the main window\n",
    "root = tk.Tk()\n",
    "root.title(\"Measure Processing UI - 2.0\")\n",
    "root.geometry(\"600x400\") \n",
    "\n",
    "# Load the INI file\n",
    "ini_file = \"config.ini\"  # Replace with your actual ini file path\n",
    "config = load_ini_file(ini_file)\n",
    "\n",
    "# Create a label\n",
    "tk.Label(root, text=\"Select Study\", font=('Arial', 12)).pack(pady=10)\n",
    "\n",
    "# Create the combobox with section names\n",
    "combobox = ttk.Combobox(root, values=config.sections(), width=30)\n",
    "combobox.pack(pady=10)\n",
    "combobox.bind(\"<<ComboboxSelected>>\", show_section_details)\n",
    "\n",
    "# Create a text area to display section details\n",
    "text_area = tk.Text(root, width=60, height=15)\n",
    "text_area.pack(pady=20)\n",
    "\n",
    "# Run the application\n",
    "root.mainloop()\n"
   ]
  },
  {
   "cell_type": "code",
   "execution_count": null,
   "id": "d7147efb",
   "metadata": {},
   "outputs": [],
   "source": []
  }
 ],
 "metadata": {
  "kernelspec": {
   "display_name": "Python 3 (ipykernel)",
   "language": "python",
   "name": "python3"
  },
  "language_info": {
   "codemirror_mode": {
    "name": "ipython",
    "version": 3
   },
   "file_extension": ".py",
   "mimetype": "text/x-python",
   "name": "python",
   "nbconvert_exporter": "python",
   "pygments_lexer": "ipython3",
   "version": "3.11.3"
  }
 },
 "nbformat": 4,
 "nbformat_minor": 5
}
