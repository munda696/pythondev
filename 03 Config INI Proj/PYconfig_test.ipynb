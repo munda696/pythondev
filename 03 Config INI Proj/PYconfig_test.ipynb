{
 "cells": [
  {
   "cell_type": "code",
   "execution_count": 5,
   "id": "2918c07b",
   "metadata": {},
   "outputs": [],
   "source": [
    "import configparser\n",
    "  \n",
    "def create_config():\n",
    "    config = configparser.ConfigParser()\n",
    " \n",
    "    # Add sections and key-value pairs\n",
    "    config['General'] = {'debug': True, 'log_level': 'info'}\n",
    "    config['Database'] = {'db_name': 'example_db',\n",
    "                          'db_host': 'localhost', 'db_port': '5432'}\n",
    " \n",
    "    # Write the configuration to a file\n",
    "    with open('config.ini', 'w') as configfile:\n",
    "        config.write(configfile)\n",
    " \n",
    " \n",
    "if __name__ == \"__main__\":\n",
    "    create_config()\n"
   ]
  },
  {
   "cell_type": "code",
   "execution_count": 8,
   "id": "92961b0d",
   "metadata": {},
   "outputs": [],
   "source": [
    "import configparser\n",
    "\n",
    "\n",
    "def read_config():\n",
    "    # Create a ConfigParser object\n",
    "    config = configparser.ConfigParser()\n",
    "\n",
    "    # Read the configuration file\n",
    "    config.read('config_main.ini')\n",
    "\n",
    "    # Access values from the configuration file\n",
    "    debug_mode = config.getboolean('General', 'debug')\n",
    "    log_level = config.get('General', 'log_level')\n",
    "    db_name = config.get('Database', 'db_name')\n",
    "    db_host = config.get('Database', 'db_host')\n",
    "    db_port = config.get('Database', 'db_port')\n",
    "\n",
    "    # Return a dictionary with the retrieved values\n",
    "    config_values = {\n",
    "        'debug_mode': debug_mode,\n",
    "        'log_level': log_level,\n",
    "        'db_name': db_name,\n",
    "        'db_host': db_host,\n",
    "        'db_port': db_port\n",
    "    }\n",
    "\n",
    "    return config_values\n",
    "\n",
    "\n",
    "if 1 == \"1\":\n",
    "\n",
    "    config_data = read_config()\n",
    "\n",
    "    # Print the retrieved values\n",
    "    print(\"Debug Mode:\", config_data['debug_mode'])\n",
    "    print(\"Log Level:\", config_data['log_level'])\n",
    "    print(\"Database Name:\", config_data['db_name'])\n",
    "    print(\"Database Host:\", config_data['db_host'])\n",
    "    print(\"Database Port:\", config_data['db_port'])\n"
   ]
  },
  {
   "cell_type": "code",
   "execution_count": null,
   "id": "adeb8737",
   "metadata": {},
   "outputs": [],
   "source": []
  }
 ],
 "metadata": {
  "kernelspec": {
   "display_name": "Python 3 (ipykernel)",
   "language": "python",
   "name": "python3"
  },
  "language_info": {
   "codemirror_mode": {
    "name": "ipython",
    "version": 3
   },
   "file_extension": ".py",
   "mimetype": "text/x-python",
   "name": "python",
   "nbconvert_exporter": "python",
   "pygments_lexer": "ipython3",
   "version": "3.11.3"
  }
 },
 "nbformat": 4,
 "nbformat_minor": 5
}
