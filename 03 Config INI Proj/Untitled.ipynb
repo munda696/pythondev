{
 "cells": [
  {
   "cell_type": "code",
   "execution_count": 1,
   "id": "6ba75271",
   "metadata": {},
   "outputs": [],
   "source": [
    "import configparser\n",
    "\n",
    "def readconfigfile(filename):\n",
    "    cof = configparser.ConfigParser(allow_no_value=True)\n",
    "    cof.read(filename)\n",
    "    return cof\n",
    "\n",
    "def extract_nested_keys(section, key_prefix, section_data):\n",
    "    nested_data = {}\n",
    "    for key, value in section_data.items():\n",
    "        if key.startswith(key_prefix):\n",
    "            nested_key = key[len(key_prefix):].strip()  \n",
    "            nested_data[nested_key] = value\n",
    "    return nested_data\n",
    "\n",
    "def update_config_tag(config_data, section, tag_name, new_value):\n",
    "     if section in config_data:\n",
    "        if tag_name in config_data[section]:\n",
    "            config_data[section][tag_name] = new_value\n",
    "            print(f\"Updated {tag_name} in section {section} to {new_value}.\")\n",
    "        else:\n",
    "            print(f\"Tag {tag_name} not found in section {section}.\")\n",
    "     else:\n",
    "        print(f\"Section {section} not found.\")\n",
    "\n",
    "def save_config(config_data, filename):\n",
    "    \"\"\" Save the updated configuration back to the file \"\"\"\n",
    "    with open(filename, 'w') as configfile:\n",
    "        config_data.write(configfile)\n",
    "    print(f\"Configuration saved to {filename}.\")\n",
    "\n",
    "if 1 == \"1\":\n",
    "    filename = \"config_master.ini\" \n",
    "    config_data = readconfigfile(filename)\n",
    "    \n",
    "    # Input to test update\n",
    "    section_name = input(\"Enter the section name: \")  \n",
    "    tag_name = input(\"Enter the tag name to update (e.g., StudyRun): \")\n",
    "    new_value = input(f\"Enter the new value for {tag_name}: \") \n",
    "    \n",
    "    # Update config\n",
    "    update_config_tag(config_data, section_name, tag_name, new_value)\n",
    "    \n",
    "    # Save\n",
    "    save_config(config_data, filename)"
   ]
  },
  {
   "cell_type": "code",
   "execution_count": null,
   "id": "e2328fd4",
   "metadata": {},
   "outputs": [],
   "source": []
  }
 ],
 "metadata": {
  "kernelspec": {
   "display_name": "Python 3 (ipykernel)",
   "language": "python",
   "name": "python3"
  },
  "language_info": {
   "codemirror_mode": {
    "name": "ipython",
    "version": 3
   },
   "file_extension": ".py",
   "mimetype": "text/x-python",
   "name": "python",
   "nbconvert_exporter": "python",
   "pygments_lexer": "ipython3",
   "version": "3.11.3"
  }
 },
 "nbformat": 4,
 "nbformat_minor": 5
}
