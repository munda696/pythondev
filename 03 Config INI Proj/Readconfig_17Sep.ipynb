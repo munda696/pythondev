{
 "cells": [
  {
   "cell_type": "code",
   "execution_count": 13,
   "id": "feb3db14",
   "metadata": {},
   "outputs": [
    {
     "name": "stdout",
     "output_type": "stream",
     "text": [
      "Section: Study-ULH\n",
      "StudyRun: 2024M2\n",
      "\n",
      "Section: Study-AH\n",
      "StudyRun: 2024M2\n",
      "\n",
      "Section: Study-IP_TFA\n",
      "StudyRun: 2024M2\n",
      "\n",
      "Section: Study-IP_SS\n",
      "StudyRun: 2024M2\n",
      "\n",
      "Section: Study-IP_MED\n",
      "StudyRun: 2024M2\n",
      "\n",
      "Section: Study-IP_SPIA\n",
      "StudyRun: 2024M2\n",
      "\n"
     ]
    }
   ],
   "source": [
    "import configparser\n",
    "\n",
    "def readconfigfile(filename):\n",
    "    cof = configparser.ConfigParser(allow_no_value=True)\n",
    "    cof.read(filename)\n",
    "    return cof\n",
    "\n",
    "def extract_nested_keys(section, key_prefix, section_data):\n",
    "    \"\"\" Helper function to extract keys that belong to nested parts like FilePaths and Workspaces \"\"\"\n",
    "    nested_data = {}\n",
    "    for key, value in section_data.items():\n",
    "        if key.startswith(key_prefix):\n",
    "            nested_key = key[len(key_prefix):].strip()  # Remove prefix and whitespace\n",
    "            nested_data[nested_key] = value\n",
    "    return nested_data\n",
    "\n",
    "if __name__ == \"__main__\":\n",
    "    filename = \"config_master.ini\"  \n",
    "    config_data = readconfigfile(filename)\n",
    "    \n",
    "    # Loop through each section and find 'StudyRun'\n",
    "    for section in config_data.sections():\n",
    "        if 'StudyRun' in config_data[section]:\n",
    "            print(f\"Section: {section}\")\n",
    "            print(f\"StudyRun: {config_data[section]['StudyRun']}\")\n",
    "            \n",
    "            # Check if 'FilePaths' are nested within the section\n",
    "            file_paths = extract_nested_keys(section, 'FilePaths=', config_data[section])\n",
    "            if file_paths:\n",
    "                print(\"FilePaths:\")\n",
    "                for key, value in file_paths.items():\n",
    "                    print(f\"  {key}: {value}\")\n",
    "            \n",
    "            # Check if 'Workspaces' are nested within the section\n",
    "            workspaces = extract_nested_keys(section, 'Workspaces=', config_data[section])\n",
    "            if workspaces:\n",
    "                print(\"Workspaces:\")\n",
    "                for key, value in workspaces.items():\n",
    "                    print(f\"  {key}: {value}\")\n",
    "            \n",
    "            print('')  # For spacing between sections\n"
   ]
  },
  {
   "cell_type": "code",
   "execution_count": 7,
   "id": "b684d2dc",
   "metadata": {},
   "outputs": [
    {
     "name": "stdout",
     "output_type": "stream",
     "text": [
      "2024M2\n",
      "False,True\n"
     ]
    }
   ],
   "source": [
    "import configparser\n",
    "\n",
    "config = configparser.ConfigParser()\n",
    "config.read(\"config_master.ini\")\n",
    "\n",
    "# Access values within nested sections\n",
    "study_run = config['Study-ULH']['StudyRun']\n",
    "New_rate = config['Study-AH']['NewRateFiles']\n",
    "#gitroot = config['Study-SPIA']['FilePaths']['GitRoot']\n",
    "\n",
    "print(study_run)\n",
    "print(New_rate)\n",
    "#print(gitroot)\n"
   ]
  },
  {
   "cell_type": "code",
   "execution_count": 4,
   "id": "b3bdca6f",
   "metadata": {
    "scrolled": false
   },
   "outputs": [
    {
     "ename": "KeyError",
     "evalue": "'Study-ULH'",
     "output_type": "error",
     "traceback": [
      "\u001b[1;31m---------------------------------------------------------------------------\u001b[0m",
      "\u001b[1;31mKeyError\u001b[0m                                  Traceback (most recent call last)",
      "Cell \u001b[1;32mIn[4], line 18\u001b[0m\n\u001b[0;32m     15\u001b[0m filename \u001b[38;5;241m=\u001b[39m \u001b[38;5;124m\"\u001b[39m\u001b[38;5;124mconfig_main.ini\u001b[39m\u001b[38;5;124m\"\u001b[39m  \n\u001b[0;32m     16\u001b[0m new_value \u001b[38;5;241m=\u001b[39m \u001b[38;5;124m\"\u001b[39m\u001b[38;5;124mFalse\u001b[39m\u001b[38;5;124m\"\u001b[39m \n\u001b[1;32m---> 18\u001b[0m update_study_run(filename, new_value)\n\u001b[0;32m     19\u001b[0m \u001b[38;5;28mprint\u001b[39m(\u001b[38;5;124m\"\u001b[39m\u001b[38;5;124mStudyRun tag updated\u001b[39m\u001b[38;5;124m\"\u001b[39m)\n",
      "Cell \u001b[1;32mIn[4], line 9\u001b[0m, in \u001b[0;36mupdate_study_run\u001b[1;34m(filename, new_value)\u001b[0m\n\u001b[0;32m      6\u001b[0m config \u001b[38;5;241m=\u001b[39m configparser\u001b[38;5;241m.\u001b[39mConfigParser()\n\u001b[0;32m      7\u001b[0m config\u001b[38;5;241m.\u001b[39mread(filename)\n\u001b[1;32m----> 9\u001b[0m config[\u001b[38;5;124m'\u001b[39m\u001b[38;5;124mStudy-ULH\u001b[39m\u001b[38;5;124m'\u001b[39m][\u001b[38;5;124m'\u001b[39m\u001b[38;5;124mNewRateFiles\u001b[39m\u001b[38;5;124m'\u001b[39m] \u001b[38;5;241m=\u001b[39m new_value\n\u001b[0;32m     10\u001b[0m \u001b[38;5;28;01mwith\u001b[39;00m \u001b[38;5;28mopen\u001b[39m(filename, \u001b[38;5;124m'\u001b[39m\u001b[38;5;124mw\u001b[39m\u001b[38;5;124m'\u001b[39m) \u001b[38;5;28;01mas\u001b[39;00m configfile:\n\u001b[0;32m     11\u001b[0m     config\u001b[38;5;241m.\u001b[39mwrite(configfile)\n",
      "File \u001b[1;32m~\\AppData\\Local\\anaconda3\\Lib\\configparser.py:979\u001b[0m, in \u001b[0;36mRawConfigParser.__getitem__\u001b[1;34m(self, key)\u001b[0m\n\u001b[0;32m    977\u001b[0m \u001b[38;5;28;01mdef\u001b[39;00m \u001b[38;5;21m__getitem__\u001b[39m(\u001b[38;5;28mself\u001b[39m, key):\n\u001b[0;32m    978\u001b[0m     \u001b[38;5;28;01mif\u001b[39;00m key \u001b[38;5;241m!=\u001b[39m \u001b[38;5;28mself\u001b[39m\u001b[38;5;241m.\u001b[39mdefault_section \u001b[38;5;129;01mand\u001b[39;00m \u001b[38;5;129;01mnot\u001b[39;00m \u001b[38;5;28mself\u001b[39m\u001b[38;5;241m.\u001b[39mhas_section(key):\n\u001b[1;32m--> 979\u001b[0m         \u001b[38;5;28;01mraise\u001b[39;00m \u001b[38;5;167;01mKeyError\u001b[39;00m(key)\n\u001b[0;32m    980\u001b[0m     \u001b[38;5;28;01mreturn\u001b[39;00m \u001b[38;5;28mself\u001b[39m\u001b[38;5;241m.\u001b[39m_proxies[key]\n",
      "\u001b[1;31mKeyError\u001b[0m: 'Study-ULH'"
     ]
    }
   ],
   "source": [
    "# Updte the ini files ----------\n",
    "# config_master\n",
    "import configparser\n",
    "\n",
    "def update_study_run(filename, new_value):\n",
    "    config = configparser.ConfigParser()\n",
    "    config.read(filename)\n",
    "\n",
    "    config['Study-ULH']['NewRateFiles'] = new_value\n",
    "    with open(filename, 'w') as configfile:\n",
    "        config.write(configfile)\n",
    "        \n",
    "#just like that \n",
    "if 1 == 1:\n",
    "    filename = \"config_main.ini\"  \n",
    "    new_value = \"False\" \n",
    "\n",
    "    update_study_run(filename, new_value)\n",
    "    print(\"StudyRun tag updated\")"
   ]
  },
  {
   "cell_type": "code",
   "execution_count": null,
   "id": "9f86466c",
   "metadata": {},
   "outputs": [],
   "source": []
  }
 ],
 "metadata": {
  "kernelspec": {
   "display_name": "Python 3 (ipykernel)",
   "language": "python",
   "name": "python3"
  },
  "language_info": {
   "codemirror_mode": {
    "name": "ipython",
    "version": 3
   },
   "file_extension": ".py",
   "mimetype": "text/x-python",
   "name": "python",
   "nbconvert_exporter": "python",
   "pygments_lexer": "ipython3",
   "version": "3.11.3"
  }
 },
 "nbformat": 4,
 "nbformat_minor": 5
}
