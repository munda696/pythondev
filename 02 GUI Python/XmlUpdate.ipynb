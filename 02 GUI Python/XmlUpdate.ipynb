{
 "cells": [
  {
   "cell_type": "code",
   "execution_count": 1,
   "id": "fece84e3",
   "metadata": {},
   "outputs": [
    {
     "name": "stdout",
     "output_type": "stream",
     "text": [
      "Title updated in book.xml to: Manish\n"
     ]
    }
   ],
   "source": [
    "import xml.etree.ElementTree as ET\n",
    "\n",
    "file_path = \"book.xml\"  \n",
    "tag_to_update = \"title\"\n",
    "new_title = \"Manish\"\n",
    "\n",
    "#mainf\n",
    "def update_xml_title(tree, new_title):\n",
    "   \"\"\"Updates the title of the XML document.\"\"\"\n",
    "   root = tree.getroot()\n",
    "   for element in root.iter(tag_to_update):\n",
    "       element.text = new_title\n",
    "\n",
    "tree = ET.parse(file_path)\n",
    "update_xml_title(tree, new_title)\n",
    "tree.write(file_path)\n",
    "\n",
    "print(f\"Title updated in {file_path} to: {new_title}\")"
   ]
  },
  {
   "cell_type": "code",
   "execution_count": null,
   "id": "7c3c52cb",
   "metadata": {},
   "outputs": [],
   "source": []
  }
 ],
 "metadata": {
  "kernelspec": {
   "display_name": "Python 3 (ipykernel)",
   "language": "python",
   "name": "python3"
  },
  "language_info": {
   "codemirror_mode": {
    "name": "ipython",
    "version": 3
   },
   "file_extension": ".py",
   "mimetype": "text/x-python",
   "name": "python",
   "nbconvert_exporter": "python",
   "pygments_lexer": "ipython3",
   "version": "3.11.3"
  }
 },
 "nbformat": 4,
 "nbformat_minor": 5
}
