{
 "cells": [
  {
   "cell_type": "code",
   "execution_count": 2,
   "id": "99c7b287",
   "metadata": {},
   "outputs": [],
   "source": [
    "#Prepare the code for Student registration.\n",
    "import tkinter\n",
    "from tkinter import messagebox\n",
    "root = tkinter.Tk()\n",
    "\n",
    "def OnClick_Submit():\n",
    "    name = txtbox_name.get()\n",
    "    address = txtbox_Address.get()\n",
    "    email = txtbox_email.get()\n",
    "    \n",
    "    messagebox.showinfo(\"Captured Data\",\"My Name,Address & email is\" + name + address + email)\n",
    " \n",
    "\n",
    "root.title(\"Student Registration Form\")\n",
    "\n",
    "#Defining lables & textboxes for registration form \n",
    "root.geometry('500x400')\n",
    "\n",
    "#lbl_Heading = tkinter.Label(root,text=\"Studennt Registration form\", font = \"ar 15 bold\").grid(row=0, column =3)\n",
    "#lbl_Heading.pack()\n",
    "lbl_name = tkinter.Label(root,text=\"Enter Name\",padx=10, pady=5)\n",
    "lbl_name.pack(anchor=tkinter.W,padx=10,side=\"left\")\n",
    "txtbox_name = tkinter.Entry(root,width = 30)\n",
    "txtbox_name.pack(anchor=tkinter.W,padx=10,side=\"left\")\n",
    "\n",
    "\n",
    "lbl_Address = tkinter.Label(root,text=\"Enter Address\", pady=50)\n",
    "lbl_Address.pack(anchor=tkinter.W,padx=10,side=\"left\")\n",
    "txtbox_Address = tkinter.Entry(root, width = 30)\n",
    "txtbox_Address.pack(anchor=tkinter.W,padx=10,side=\"left\")\n",
    "\n",
    "lbl_email = tkinter.Label(root,text=\"Enter Email\")\n",
    "lbl_email.pack(anchor=tkinter.W,padx=10,side=\"left\")\n",
    "txtbox_email = tkinter.Entry(root, width = 30)\n",
    "txtbox_email.pack(anchor=tkinter.W,padx=10,side=\"left\")\n",
    "\n",
    "#Submit button\n",
    "Submit_but = tkinter.Button(root,text=\"Submit\",command = OnClick_Submit, padx=20)\n",
    "Submit_but.pack(anchor=tkinter.W,padx=10,side=\"left\")\n",
    "\n",
    "root.mainloop()"
   ]
  },
  {
   "cell_type": "code",
   "execution_count": null,
   "id": "6b258d77",
   "metadata": {},
   "outputs": [],
   "source": []
  },
  {
   "cell_type": "code",
   "execution_count": null,
   "id": "888df444",
   "metadata": {},
   "outputs": [],
   "source": []
  },
  {
   "cell_type": "code",
   "execution_count": null,
   "id": "a56c0204",
   "metadata": {},
   "outputs": [],
   "source": []
  }
 ],
 "metadata": {
  "kernelspec": {
   "display_name": "Python 3 (ipykernel)",
   "language": "python",
   "name": "python3"
  },
  "language_info": {
   "codemirror_mode": {
    "name": "ipython",
    "version": 3
   },
   "file_extension": ".py",
   "mimetype": "text/x-python",
   "name": "python",
   "nbconvert_exporter": "python",
   "pygments_lexer": "ipython3",
   "version": "3.11.3"
  }
 },
 "nbformat": 4,
 "nbformat_minor": 5
}
