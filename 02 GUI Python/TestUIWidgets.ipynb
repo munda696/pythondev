{
 "cells": [
  {
   "cell_type": "code",
   "execution_count": 1,
   "id": "6d3d011d",
   "metadata": {},
   "outputs": [],
   "source": [
    "from tkinter import Tk, Button, Text\n",
    "\n",
    "def print_text():\n",
    "  # Clear the text widget before inserting new text\n",
    "  text_widget.delete(1.0, \"end\")\n",
    "  text_widget.insert(\"end\", \"This is the text printed from the button click!\")\n",
    "\n",
    "# Create the main window\n",
    "root = Tk()\n",
    "root.title(\"Print Text Example\")\n",
    "\n",
    "# Create the text widget\n",
    "text_widget = Text(root, height=5, width=30)\n",
    "text_widget.pack()\n",
    "\n",
    "# Create the button\n",
    "print_button = Button(root, text=\"Print Text\", command=print_text)\n",
    "print_button.pack()\n",
    "\n",
    "# Start the main event loop\n",
    "root.mainloop()"
   ]
  },
  {
   "cell_type": "code",
   "execution_count": null,
   "id": "cd7bfb80",
   "metadata": {},
   "outputs": [],
   "source": []
  }
 ],
 "metadata": {
  "kernelspec": {
   "display_name": "Python 3 (ipykernel)",
   "language": "python",
   "name": "python3"
  },
  "language_info": {
   "codemirror_mode": {
    "name": "ipython",
    "version": 3
   },
   "file_extension": ".py",
   "mimetype": "text/x-python",
   "name": "python",
   "nbconvert_exporter": "python",
   "pygments_lexer": "ipython3",
   "version": "3.11.3"
  }
 },
 "nbformat": 4,
 "nbformat_minor": 5
}
