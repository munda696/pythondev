{
 "cells": [
  {
   "cell_type": "code",
   "execution_count": 3,
   "id": "84fae1da",
   "metadata": {},
   "outputs": [
    {
     "name": "stdout",
     "output_type": "stream",
     "text": [
      "File not found on drive Z:: Z:folder/subfolder/filename.txt\n",
      "File not found on drive Y:: Y:folder/subfolder/filename.txt\n",
      "File not found on drive X:: X:folder/subfolder/filename.txt\n",
      "No files were successfully read.\n"
     ]
    }
   ],
   "source": [
    "import os\n",
    "\n",
    "def read_network_files(drive_letters, location):\n",
    "\n",
    "\n",
    "  all_file_contents = []\n",
    "  for drive_letter in drive_letters:\n",
    "    try:\n",
    "      # Construct the full path for the current drive\n",
    "      full_path = os.path.join(drive_letter, location)\n",
    "\n",
    "      # Open the file and read its contents\n",
    "      with open(full_path, 'r') as file:\n",
    "        file_contents = file.read()\n",
    "        all_file_contents.append(file_contents)\n",
    "    except FileNotFoundError:\n",
    "      print(f\"File not found on drive {drive_letter}: {full_path}\")\n",
    "    except PermissionError:\n",
    "      print(f\"Insufficient permissions to access file on drive {drive_letter}: {full_path}\")\n",
    "    except Exception as e:\n",
    "      print(f\"An error occurred while reading file on drive {drive_letter}: {full_path}\")\n",
    "      print(e)\n",
    "\n",
    "  return all_file_contents\n",
    "\n",
    "# Example usage\n",
    "drive_letters = [\"Z:\", \"Y:\", \"X:\"]  # Replace with your actual drive letters\n",
    "location = \"folder/subfolder/filename.txt\"  # Replace with the relative path to your files\n",
    "\n",
    "all_file_contents = read_network_files(drive_letters, location)\n",
    "\n",
    "if all_file_contents:\n",
    "  # Process the read file contents here\n",
    "  for content in all_file_contents:\n",
    "    print(content)\n",
    "else:\n",
    "  print(\"No files were successfully read.\")"
   ]
  },
  {
   "cell_type": "code",
   "execution_count": null,
   "id": "5395cad2",
   "metadata": {},
   "outputs": [],
   "source": []
  }
 ],
 "metadata": {
  "kernelspec": {
   "display_name": "Python 3 (ipykernel)",
   "language": "python",
   "name": "python3"
  },
  "language_info": {
   "codemirror_mode": {
    "name": "ipython",
    "version": 3
   },
   "file_extension": ".py",
   "mimetype": "text/x-python",
   "name": "python",
   "nbconvert_exporter": "python",
   "pygments_lexer": "ipython3",
   "version": "3.11.3"
  }
 },
 "nbformat": 4,
 "nbformat_minor": 5
}
