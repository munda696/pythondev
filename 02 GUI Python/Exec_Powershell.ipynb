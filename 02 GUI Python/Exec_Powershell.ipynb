{
 "cells": [
  {
   "cell_type": "code",
   "execution_count": 1,
   "id": "77aac07e",
   "metadata": {},
   "outputs": [
    {
     "ename": "SyntaxError",
     "evalue": "(unicode error) 'unicodeescape' codec can't decode bytes in position 2-3: truncated \\UXXXXXXXX escape (1094036166.py, line 4)",
     "output_type": "error",
     "traceback": [
      "\u001b[1;36m  Cell \u001b[1;32mIn[1], line 4\u001b[1;36m\u001b[0m\n\u001b[1;33m    script_path = \"C:\\Users\\manish.chandra.munda\\Desktop\\Sample PShell Scripts\\Main.ps1\"\u001b[0m\n\u001b[1;37m                                                                                        ^\u001b[0m\n\u001b[1;31mSyntaxError\u001b[0m\u001b[1;31m:\u001b[0m (unicode error) 'unicodeescape' codec can't decode bytes in position 2-3: truncated \\UXXXXXXXX escape\n"
     ]
    }
   ],
   "source": [
    "import subprocess\n",
    " \n",
    "# Script path (replace with your actual filename)\n",
    "script_path = \"C:\\Users\\manish.chandra.munda\\Desktop\\Sample PShell Scripts\\Main.ps1\"\n",
    " \n",
    "# Build the command with powershell.exe and the script path\n",
    "command = [\"powershell\", \"-ExecutionPolicy\", \"Bypass\", \"-File\", script_path]\n",
    " \n",
    "try:\n",
    "  # Execute the command and capture the output\n",
    "  process = subprocess.run(command, capture_output=True, text=True)\n",
    "  # Print the output if successful\n",
    "  if process.returncode == 0:\n",
    "    print(\"Script execution successful!\")\n",
    "    print(f\"Output:\\n{process.stdout}\")\n",
    "  else:\n",
    "    print(\"Error: Script execution failed.\")\n",
    "except FileNotFoundError:\n",
    "  print(f\"Error: Script file not found at {script_path}\")\n",
    "except Exception as e:\n",
    "  print(f\"An error occurred: {e}\")"
   ]
  },
  {
   "cell_type": "code",
   "execution_count": null,
   "id": "e155879f",
   "metadata": {},
   "outputs": [],
   "source": []
  }
 ],
 "metadata": {
  "kernelspec": {
   "display_name": "Python 3 (ipykernel)",
   "language": "python",
   "name": "python3"
  },
  "language_info": {
   "codemirror_mode": {
    "name": "ipython",
    "version": 3
   },
   "file_extension": ".py",
   "mimetype": "text/x-python",
   "name": "python",
   "nbconvert_exporter": "python",
   "pygments_lexer": "ipython3",
   "version": "3.11.3"
  }
 },
 "nbformat": 4,
 "nbformat_minor": 5
}
