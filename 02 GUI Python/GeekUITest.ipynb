{
 "cells": [
  {
   "cell_type": "code",
   "execution_count": 15,
   "id": "59235a0f",
   "metadata": {},
   "outputs": [],
   "source": [
    "from tkinter import *\n",
    " \n",
    "root = Tk()\n",
    "# specify size of window.\n",
    "root.geometry(\"250x170\")\n",
    " \n",
    "# Create text widget and specify size.\n",
    "T = Text(root, height = 5, width = 52)\n",
    " \n",
    "# Create label\n",
    "l = Label(root, text = \"Fact of the Day\")\n",
    "l.config(font =(\"Courier\", 14))\n",
    " \n",
    "Fact = \"\"\"A man can be arrested in\n",
    "Italy for wearing a skirt in public.\"\"\"\n",
    " \n",
    "# Create button for next text.\n",
    "b1 = Button(root, text = \"Next\", )\n",
    " \n",
    "# Create an Exit button.\n",
    "b2 = Button(root, text = \"Exit\",\n",
    "            command = root.destroy) \n",
    " \n",
    "l.pack()\n",
    "T.pack()\n",
    "b1.pack()\n",
    "b2.pack()\n",
    " \n",
    "# Insert The Fact.\n",
    "T.insert(tk.END, Fact)\n",
    " \n",
    "tk.mainloop()"
   ]
  },
  {
   "cell_type": "code",
   "execution_count": null,
   "id": "0ae0e26d",
   "metadata": {},
   "outputs": [],
   "source": []
  },
  {
   "cell_type": "code",
   "execution_count": null,
   "id": "21a03abb",
   "metadata": {},
   "outputs": [],
   "source": []
  }
 ],
 "metadata": {
  "kernelspec": {
   "display_name": "Python 3 (ipykernel)",
   "language": "python",
   "name": "python3"
  },
  "language_info": {
   "codemirror_mode": {
    "name": "ipython",
    "version": 3
   },
   "file_extension": ".py",
   "mimetype": "text/x-python",
   "name": "python",
   "nbconvert_exporter": "python",
   "pygments_lexer": "ipython3",
   "version": "3.11.3"
  }
 },
 "nbformat": 4,
 "nbformat_minor": 5
}
