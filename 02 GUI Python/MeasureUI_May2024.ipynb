{
 "cells": [
  {
   "cell_type": "code",
   "execution_count": 2,
   "id": "a3945e6e",
   "metadata": {},
   "outputs": [
    {
     "name": "stdout",
     "output_type": "stream",
     "text": [
      "Error: Master folder 'Fruits' not found.\n"
     ]
    }
   ],
   "source": [
    "import tkinter as tk\n",
    "from tkinter import ttk  # Use ttk for a more modern combobox\n",
    "import os\n",
    "import subprocess\n",
    "\n",
    "# Function to get the list of fruit folders\n",
    "def get_fruit_folders(master_folder):\n",
    "    try:\n",
    "        return [f for f in os.listdir(master_folder) if os.path.isdir(os.path.join(master_folder, f))]\n",
    "    except FileNotFoundError:\n",
    "        print(f\"Error: Master folder '{master_folder}' not found.\")\n",
    "        return []\n",
    "\n",
    "# Function to update tags in XML (replace with your specific logic)\n",
    "def update_xml_tags(xml_file, tag1_value, tag2_value):\n",
    "    # Replace with your XML parsing and modification logic here\n",
    "    # For example, using libraries like xml.etree.ElementTree\n",
    "    print(f\"Updating tags in {xml_file}: tag1={tag1_value}, tag2={tag2_value}\")  # Placeholder\n",
    "\n",
    "# Function to execute PowerShell script\n",
    "def execute_powershell(ps1_file):\n",
    "    try:\n",
    "        subprocess.run([\"powershell\", \"-ExecutionPolicy\", \"Bypass\", ps1_file], check=True)\n",
    "        print(f\"Successfully executed PowerShell script: {ps1_file}\")\n",
    "    except subprocess.CalledProcessError as e:\n",
    "        print(f\"Error executing PowerShell: {e}\")\n",
    "\n",
    "# Function to handle combobox selection\n",
    "def combobox_selected(event):\n",
    "    selected_fruit = combobox.get()\n",
    "    if selected_fruit:\n",
    "        xml_file = os.path.join(\"Fruits\", selected_fruit, \"cfg\", \"config.XML\")\n",
    "        ps1_file = os.path.join(\"Fruits\", selected_fruit, \"Main.ps1\")\n",
    "\n",
    "        if os.path.exists(xml_file):\n",
    "            # Update XML tags (replace with your logic)\n",
    "            update_xml_tags(xml_file, \"tag1_value\", \"tag2_value\")  # Placeholder\n",
    "\n",
    "            # Execute PowerShell script\n",
    "            execute_powershell(ps1_file)\n",
    "        else:\n",
    "            print(f\"Error: XML file '{xml_file}' not found.\")\n",
    "\n",
    "# Create the main window\n",
    "root = tk.Tk()\n",
    "root.title(\"Fruit Script Launcher\")\n",
    "\n",
    "# Create the combobox\n",
    "fruit_folders = get_fruit_folders(\"Fruits\")\n",
    "combobox = ttk.Combobox(root, values=fruit_folders, state=\"readonly\")\n",
    "combobox.pack(padx=10, pady=10)\n",
    "\n",
    "# Create a label to display feedback (optional)\n",
    "feedback_label = tk.Label(root, text=\"\")\n",
    "feedback_label.pack()\n",
    "\n",
    "# Bind the combobox selection event\n",
    "combobox.bind(\"<<ComboboxSelected>>\", combobox_selected)\n",
    "\n",
    "# Start the main event loop\n",
    "root.mainloop()"
   ]
  },
  {
   "cell_type": "code",
   "execution_count": null,
   "id": "15e00c78",
   "metadata": {},
   "outputs": [],
   "source": []
  }
 ],
 "metadata": {
  "kernelspec": {
   "display_name": "Python 3 (ipykernel)",
   "language": "python",
   "name": "python3"
  },
  "language_info": {
   "codemirror_mode": {
    "name": "ipython",
    "version": 3
   },
   "file_extension": ".py",
   "mimetype": "text/x-python",
   "name": "python",
   "nbconvert_exporter": "python",
   "pygments_lexer": "ipython3",
   "version": "3.11.3"
  }
 },
 "nbformat": 4,
 "nbformat_minor": 5
}
