{
 "cells": [
  {
   "cell_type": "code",
   "execution_count": 2,
   "id": "63d56607",
   "metadata": {},
   "outputs": [
    {
     "name": "stdout",
     "output_type": "stream",
     "text": [
      "The number of NaN values in the column 'Title' is 44\n",
      "The number_of_rows is 48\n",
      "The difference of NaN values in the column 'Title' is 4\n"
     ]
    }
   ],
   "source": [
    "import pandas as pd\n",
    "\n",
    "excel_file = \"Personlocal.xlsx\"\n",
    "\n",
    "col_BusinessEntityID = \"BusinessEntityID\"\n",
    "col_PersonType = \"PersonType\"\n",
    "col_NameStyle = \"NameStyle\"\n",
    "col_Title = \"Title\"\n",
    "col_FirstName = \"FirstName\"\n",
    "col_MiddleName = \"MiddleName\"\n",
    "col_LastName = \"LastName\"\n",
    "col_Suffix = \"Suffix\"\n",
    "col_EmailPromotion = \"EmailPromotion\"\n",
    "col_ModifiedDate = \"ModifiedDate\"\n",
    "\n",
    "\n",
    "df = pd.read_excel(excel_file)\n",
    "\n",
    "# Count the number of NaN values in each column\n",
    "#nan_count = df.isnull().sum()\n",
    "count_Bei = df[col_BusinessEntityID].isna().sum()\n",
    "count_Pt = df[col_PersonType].isna().sum()\n",
    "count_Ns = df[col_NameStyle].isna().sum()\n",
    "count_Tt = df[col_Title].isna().sum()\n",
    "count_Fn = df[col_FirstName].isna().sum()\n",
    "count_Mn = df[col_MiddleName].isna().sum()\n",
    "count_Ln = df[col_LastName].isna().sum()\n",
    "count_Su = df[col_Suffix].isna().sum()\n",
    "count_Ep = df[col_EmailPromotion].isna().sum()\n",
    "count_Md = df[col_ModifiedDate].isna().sum()\n",
    "\n",
    "\n",
    "# Count the total no# of rows\n",
    "number_of_rows = len(df)\n",
    "# Difference with Nan data \n",
    "diff_Tt = number_of_rows - count_Tt\n",
    "\n",
    "\n",
    "print(f\"The number of NaN values in the column '{col_Title}' is {count_Tt}\")  \n",
    "print(f\"The number_of_rows is {number_of_rows}\")  \n",
    "print(f\"The difference of NaN values in the column '{col_Title}' is {diff_Tt}\")  \n",
    "\n",
    "\n",
    "\n",
    "# Write the NaN count to the Excel file\n",
    "#df['NaN Count'] = count_nan\n",
    "# Save the Excel file\n",
    "#df.to_excel('output1.xlsx')"
   ]
  },
  {
   "cell_type": "code",
   "execution_count": null,
   "id": "424c62ed",
   "metadata": {},
   "outputs": [],
   "source": []
  }
 ],
 "metadata": {
  "kernelspec": {
   "display_name": "Python 3 (ipykernel)",
   "language": "python",
   "name": "python3"
  },
  "language_info": {
   "codemirror_mode": {
    "name": "ipython",
    "version": 3
   },
   "file_extension": ".py",
   "mimetype": "text/x-python",
   "name": "python",
   "nbconvert_exporter": "python",
   "pygments_lexer": "ipython3",
   "version": "3.11.3"
  }
 },
 "nbformat": 4,
 "nbformat_minor": 5
}
