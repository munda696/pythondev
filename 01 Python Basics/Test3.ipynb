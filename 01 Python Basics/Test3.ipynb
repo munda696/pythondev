{
 "cells": [
  {
   "cell_type": "code",
   "execution_count": 14,
   "id": "dbe6d4c8",
   "metadata": {},
   "outputs": [
    {
     "name": "stdout",
     "output_type": "stream",
     "text": [
      "       BusinessEntityID PersonType  NameStyle Title FirstName MiddleName  \\\n",
      "0                     1         EM          0   NaN       Ken          J   \n",
      "1                     2         EM          0   NaN     Terri        Lee   \n",
      "2                     3         EM          0   NaN   Roberto        NaN   \n",
      "3                     4         EM          0   NaN       Rob        NaN   \n",
      "4                     5         EM          0   Ms.      Gail          A   \n",
      "...                 ...        ...        ...   ...       ...        ...   \n",
      "19967             20773         IN          0   NaN   Crystal        NaN   \n",
      "19968             20774         IN          0   NaN  Isabella          F   \n",
      "19969             20775         IN          0   NaN   Crystal          S   \n",
      "19970             20776         IN          0   NaN   Crystal        NaN   \n",
      "19971             20777         IN          0   NaN   Crystal        NaN   \n",
      "\n",
      "         LastName Suffix  EmailPromotion ModifiedDate  \n",
      "0         Sánchez    NaN               0   2003-02-08  \n",
      "1           Duffy    NaN               1   2002-02-24  \n",
      "2      Tamburello    NaN               0   2001-12-05  \n",
      "3         Walters    NaN               0   2001-12-29  \n",
      "4        Erickson    NaN               0   2002-01-30  \n",
      "...           ...    ...             ...          ...  \n",
      "19967         Guo    NaN               0   2008-04-19  \n",
      "19968  Richardson    NaN               2   2007-08-30  \n",
      "19969          He    NaN               0   2008-04-12  \n",
      "19970       Zheng    NaN               1   2008-02-15  \n",
      "19971          Hu    NaN               0   2007-11-17  \n",
      "\n",
      "[19972 rows x 10 columns]\n"
     ]
    }
   ],
   "source": [
    "import pandas\n",
    "\n",
    "excel_data_df = pandas.read_excel('Personlocal.xlsx', sheet_name='Sheet1')\n",
    "\n",
    "# print whole sheet data\n",
    "print(excel_data_df)"
   ]
  },
  {
   "cell_type": "code",
   "execution_count": null,
   "id": "cc7a4c7d",
   "metadata": {},
   "outputs": [],
   "source": []
  }
 ],
 "metadata": {
  "kernelspec": {
   "display_name": "Python 3 (ipykernel)",
   "language": "python",
   "name": "python3"
  },
  "language_info": {
   "codemirror_mode": {
    "name": "ipython",
    "version": 3
   },
   "file_extension": ".py",
   "mimetype": "text/x-python",
   "name": "python",
   "nbconvert_exporter": "python",
   "pygments_lexer": "ipython3",
   "version": "3.11.3"
  }
 },
 "nbformat": 4,
 "nbformat_minor": 5
}
