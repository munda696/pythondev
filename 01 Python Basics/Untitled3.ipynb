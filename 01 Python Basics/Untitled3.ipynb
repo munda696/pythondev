{
 "cells": [
  {
   "cell_type": "code",
   "execution_count": 5,
   "id": "d96d3902",
   "metadata": {},
   "outputs": [
    {
     "ename": "NameError",
     "evalue": "name 'var1' is not defined",
     "output_type": "error",
     "traceback": [
      "\u001b[1;31m---------------------------------------------------------------------------\u001b[0m",
      "\u001b[1;31mNameError\u001b[0m                                 Traceback (most recent call last)",
      "Cell \u001b[1;32mIn[5], line 14\u001b[0m\n\u001b[0;32m      9\u001b[0m     df\u001b[38;5;241m.\u001b[39mvar1 \u001b[38;5;241m=\u001b[39m \u001b[38;5;241m2\u001b[39m\u001b[38;5;241m+\u001b[39m\u001b[38;5;241m4\u001b[39m\n\u001b[0;32m     11\u001b[0m \u001b[38;5;28;01mif\u001b[39;00m \u001b[38;5;18m__name__\u001b[39m \u001b[38;5;241m==\u001b[39m \u001b[38;5;124m'\u001b[39m\u001b[38;5;124m__main__\u001b[39m\u001b[38;5;124m'\u001b[39m:\n\u001b[0;32m     12\u001b[0m     \u001b[38;5;66;03m# Create some data to write to the Excel file\u001b[39;00m\n\u001b[0;32m     13\u001b[0m     data \u001b[38;5;241m=\u001b[39m [[\u001b[38;5;124m'\u001b[39m\u001b[38;5;124mName\u001b[39m\u001b[38;5;124m'\u001b[39m, \u001b[38;5;124m'\u001b[39m\u001b[38;5;124mAge\u001b[39m\u001b[38;5;124m'\u001b[39m, \u001b[38;5;124m'\u001b[39m\u001b[38;5;124mCountry\u001b[39m\u001b[38;5;124m'\u001b[39m],\n\u001b[1;32m---> 14\u001b[0m              [\u001b[38;5;124m'\u001b[39m\u001b[38;5;124mJohn Doe\u001b[39m\u001b[38;5;124m'\u001b[39m, {var1}, \u001b[38;5;124m'\u001b[39m\u001b[38;5;124mUnited States\u001b[39m\u001b[38;5;124m'\u001b[39m],\n\u001b[0;32m     15\u001b[0m              [\u001b[38;5;124m'\u001b[39m\u001b[38;5;124mJane Doe\u001b[39m\u001b[38;5;124m'\u001b[39m, \u001b[38;5;241m25\u001b[39m, \u001b[38;5;124m'\u001b[39m\u001b[38;5;124mCanada\u001b[39m\u001b[38;5;124m'\u001b[39m]]\n\u001b[0;32m     17\u001b[0m     \u001b[38;5;66;03m# Write the data to the Excel file\u001b[39;00m\n\u001b[0;32m     18\u001b[0m     write_output_to_excel(data)\n",
      "\u001b[1;31mNameError\u001b[0m: name 'var1' is not defined"
     ]
    }
   ],
   "source": [
    "import pandas as pd\n",
    "\n",
    "def write_output_to_excel(data):\n",
    "    # Create a Pandas DataFrame\n",
    "    df = pd.DataFrame(data)\n",
    "\n",
    "    # Write the DataFrame to an Excel file\n",
    "    df.to_excel('output4.xlsx')\n",
    "    df.var1 = 2+4\n",
    "\n",
    "if __name__ == '__main__':\n",
    "    # Create some data to write to the Excel file\n",
    "    data = [['Name', 'Age', 'Country'],\n",
    "             ['John Doe', {var1}, 'United States'],\n",
    "             ['Jane Doe', 25, 'Canada']]\n",
    "\n",
    "    # Write the data to the Excel file\n",
    "    write_output_to_excel(data)"
   ]
  },
  {
   "cell_type": "code",
   "execution_count": null,
   "id": "68e8fb24",
   "metadata": {},
   "outputs": [],
   "source": []
  }
 ],
 "metadata": {
  "kernelspec": {
   "display_name": "Python 3 (ipykernel)",
   "language": "python",
   "name": "python3"
  },
  "language_info": {
   "codemirror_mode": {
    "name": "ipython",
    "version": 3
   },
   "file_extension": ".py",
   "mimetype": "text/x-python",
   "name": "python",
   "nbconvert_exporter": "python",
   "pygments_lexer": "ipython3",
   "version": "3.11.3"
  }
 },
 "nbformat": 4,
 "nbformat_minor": 5
}
