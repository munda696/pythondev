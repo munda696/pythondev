{
 "cells": [
  {
   "cell_type": "code",
   "execution_count": 1,
   "id": "ea098b93",
   "metadata": {},
   "outputs": [],
   "source": [
    "import glob\n",
    "import pandas as pd\n",
    "\n",
    "# Get a list of CSV files\n",
    "csv_files = glob.glob(r'C:\\01 MCM Documents\\z_Python_files\\input\\*.csv')\n",
    "\n",
    "# Create a DataFrame for each CSV file\n",
    "dfs = []\n",
    "for csv_file in csv_files:\n",
    "    df = pd.read_csv(csv_file)\n",
    "    dfs.append(df)\n",
    "\n",
    "# Concatenate the DataFrames\n",
    "df_combined = pd.concat(dfs)\n",
    "\n",
    "# Save the combined DataFrame to a CSV file\n",
    "df_combined.to_csv(r'C:\\01 MCM Documents\\z_Python_files\\output\\combined.csv')"
   ]
  },
  {
   "cell_type": "code",
   "execution_count": null,
   "id": "f624abeb",
   "metadata": {},
   "outputs": [],
   "source": []
  }
 ],
 "metadata": {
  "kernelspec": {
   "display_name": "Python 3 (ipykernel)",
   "language": "python",
   "name": "python3"
  },
  "language_info": {
   "codemirror_mode": {
    "name": "ipython",
    "version": 3
   },
   "file_extension": ".py",
   "mimetype": "text/x-python",
   "name": "python",
   "nbconvert_exporter": "python",
   "pygments_lexer": "ipython3",
   "version": "3.11.3"
  }
 },
 "nbformat": 4,
 "nbformat_minor": 5
}
