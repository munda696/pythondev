{
 "cells": [
  {
   "cell_type": "code",
   "execution_count": 1,
   "id": "279ad609",
   "metadata": {},
   "outputs": [
    {
     "name": "stdout",
     "output_type": "stream",
     "text": [
      "The number of NaN values in the column 'Suffix' is 48\n"
     ]
    }
   ],
   "source": [
    "import pandas as pd\n",
    "\n",
    "def count_nan_in_excel_column(excel_file, column_name):\n",
    "  \"\"\"Counts the number of NaN values in a column in an Excel file.\"\"\"\n",
    "  df = pd.read_excel(excel_file)\n",
    "  count_nan = df[column_name].isna().sum()\n",
    "  return count_nan\n",
    "\n",
    "if __name__ == \"__main__\":\n",
    "  excel_file = \"Personlocal.xlsx\"\n",
    "  column_name = \"Suffix\"\n",
    "  count_nan = count_nan_in_excel_column(excel_file, column_name)\n",
    "  print(f\"The number of NaN values in the column '{column_name}' is {count_nan}\")"
   ]
  },
  {
   "cell_type": "code",
   "execution_count": null,
   "id": "702d87e0",
   "metadata": {},
   "outputs": [],
   "source": []
  }
 ],
 "metadata": {
  "kernelspec": {
   "display_name": "Python 3 (ipykernel)",
   "language": "python",
   "name": "python3"
  },
  "language_info": {
   "codemirror_mode": {
    "name": "ipython",
    "version": 3
   },
   "file_extension": ".py",
   "mimetype": "text/x-python",
   "name": "python",
   "nbconvert_exporter": "python",
   "pygments_lexer": "ipython3",
   "version": "3.11.3"
  }
 },
 "nbformat": 4,
 "nbformat_minor": 5
}
