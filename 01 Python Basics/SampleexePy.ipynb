{
 "cells": [
  {
   "cell_type": "code",
   "execution_count": 6,
   "id": "f53f93f9",
   "metadata": {},
   "outputs": [
    {
     "name": "stdout",
     "output_type": "stream",
     "text": [
      "CountDown =  10\n",
      "CountDown =  9\n",
      "CountDown =  8\n",
      "CountDown =  7\n",
      "CountDown =  6\n",
      "CountDown =  5\n",
      "CountDown =  4\n",
      "CountDown =  3\n",
      "CountDown =  2\n",
      "CountDown =  1\n"
     ]
    }
   ],
   "source": [
    "\n",
    "countdown = 10\n",
    "\n",
    "while countdown > 0:\n",
    "    print ('CountDown = ', countdown)\n",
    "    countdown = countdown - 1\n",
    "   \n"
   ]
  },
  {
   "cell_type": "code",
   "execution_count": null,
   "id": "a329c5dc",
   "metadata": {},
   "outputs": [],
   "source": []
  }
 ],
 "metadata": {
  "kernelspec": {
   "display_name": "Python 3 (ipykernel)",
   "language": "python",
   "name": "python3"
  },
  "language_info": {
   "codemirror_mode": {
    "name": "ipython",
    "version": 3
   },
   "file_extension": ".py",
   "mimetype": "text/x-python",
   "name": "python",
   "nbconvert_exporter": "python",
   "pygments_lexer": "ipython3",
   "version": "3.11.3"
  }
 },
 "nbformat": 4,
 "nbformat_minor": 5
}
