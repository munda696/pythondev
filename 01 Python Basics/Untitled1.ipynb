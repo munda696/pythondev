{
 "cells": [
  {
   "cell_type": "code",
   "execution_count": 1,
   "id": "51dd3330",
   "metadata": {},
   "outputs": [],
   "source": [
    "import pandas as pd\n",
    "\n",
    "# Read the Excel file\n",
    "df = pd.read_excel('Personlocal.xlsx')\n",
    "\n",
    "# Count the number of NaN values in each column\n",
    "nan_count = df.isnull().sum()\n",
    "\n",
    "# Write the NaN count to the Excel file\n",
    "df['NaN Count'] = nan_count\n",
    "\n",
    "# Save the Excel file\n",
    "df.to_excel('output.xlsx')"
   ]
  },
  {
   "cell_type": "code",
   "execution_count": null,
   "id": "8bc83f1a",
   "metadata": {},
   "outputs": [],
   "source": []
  }
 ],
 "metadata": {
  "kernelspec": {
   "display_name": "Python 3 (ipykernel)",
   "language": "python",
   "name": "python3"
  },
  "language_info": {
   "codemirror_mode": {
    "name": "ipython",
    "version": 3
   },
   "file_extension": ".py",
   "mimetype": "text/x-python",
   "name": "python",
   "nbconvert_exporter": "python",
   "pygments_lexer": "ipython3",
   "version": "3.11.3"
  }
 },
 "nbformat": 4,
 "nbformat_minor": 5
}
