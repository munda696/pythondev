{
 "cells": [
  {
   "cell_type": "code",
   "execution_count": 3,
   "id": "660e502b",
   "metadata": {},
   "outputs": [
    {
     "data": {
      "text/plain": [
       "75.0"
      ]
     },
     "execution_count": 3,
     "metadata": {},
     "output_type": "execute_result"
    }
   ],
   "source": [
    "def calculateSI():\n",
    "    P = 1000\n",
    "    R = 2.5\n",
    "    T = 3 \n",
    "    \n",
    "    SI = P*R*T/100\n",
    "    return SI\n",
    "\n",
    "calculateSI()"
   ]
  },
  {
   "cell_type": "code",
   "execution_count": 11,
   "id": "b1bfe9ce",
   "metadata": {},
   "outputs": [
    {
     "ename": "TypeError",
     "evalue": "calculateSimpleInte() missing 3 required positional arguments: 'P', 'R', and 'T'",
     "output_type": "error",
     "traceback": [
      "\u001b[1;31m---------------------------------------------------------------------------\u001b[0m",
      "\u001b[1;31mTypeError\u001b[0m                                 Traceback (most recent call last)",
      "Cell \u001b[1;32mIn[11], line 6\u001b[0m\n\u001b[0;32m      3\u001b[0m     SI \u001b[38;5;241m=\u001b[39m P\u001b[38;5;241m*\u001b[39mR\u001b[38;5;241m*\u001b[39mT\u001b[38;5;241m/\u001b[39m\u001b[38;5;241m100\u001b[39m\n\u001b[0;32m      4\u001b[0m     \u001b[38;5;28;01mreturn\u001b[39;00m SI\n\u001b[1;32m----> 6\u001b[0m calculateSimpleInte()\n",
      "\u001b[1;31mTypeError\u001b[0m: calculateSimpleInte() missing 3 required positional arguments: 'P', 'R', and 'T'"
     ]
    }
   ],
   "source": [
    "def calculateSimpleInte(P,R,T):\n",
    "    \n",
    "    SI = P*R*T/100\n",
    "    return SI\n"
   ]
  },
  {
   "cell_type": "code",
   "execution_count": 10,
   "id": "35bfab1e",
   "metadata": {},
   "outputs": [
    {
     "name": "stdout",
     "output_type": "stream",
     "text": [
      "Simple Interest: 150.0\n"
     ]
    }
   ],
   "source": [
    "def calculateSimpleInte(P,R,T):\n",
    "    \n",
    "    SI = P*R*T/100\n",
    "    return SI\n",
    "\n",
    "p = 1000\n",
    "r = 5\n",
    "t = 3\n",
    "si = calculateSimpleInte(p,r,t)\n",
    "print(\"Simple Interest:\", si)"
   ]
  },
  {
   "cell_type": "code",
   "execution_count": 13,
   "id": "2cdd4cd2",
   "metadata": {},
   "outputs": [
    {
     "name": "stdout",
     "output_type": "stream",
     "text": [
      "apple\n",
      "banana\n",
      "cherry\n"
     ]
    }
   ],
   "source": [
    "#forloop\n",
    "\n",
    "fruits = [\"apple\", \"banana\", \"cherry\"]\n",
    "for x in fruits:\n",
    "  print(x)\n"
   ]
  },
  {
   "cell_type": "code",
   "execution_count": 15,
   "id": "659beb9e",
   "metadata": {},
   "outputs": [
    {
     "name": "stdout",
     "output_type": "stream",
     "text": [
      "Enter your name: Manish\n",
      "M\n",
      "a\n",
      "n\n",
      "i\n",
      "s\n",
      "h\n",
      "Number of characters: 6\n"
     ]
    }
   ],
   "source": [
    "name = input(\"Enter your name: \")\n",
    "\n",
    "for character in name:\n",
    "    print(character)\n",
    "\n",
    "print(\"Number of characters:\", len(name))"
   ]
  },
  {
   "cell_type": "code",
   "execution_count": 21,
   "id": "8b351381",
   "metadata": {
    "scrolled": true
   },
   "outputs": [
    {
     "name": "stdout",
     "output_type": "stream",
     "text": [
      "1\n",
      "2\n",
      "3\n",
      "4\n"
     ]
    }
   ],
   "source": [
    "value = [1,2,3,4] \n",
    "\n",
    "for x in value:\n",
    "    print(x)\n",
    "    "
   ]
  },
  {
   "cell_type": "code",
   "execution_count": 27,
   "id": "339ec200",
   "metadata": {},
   "outputs": [
    {
     "name": "stdout",
     "output_type": "stream",
     "text": [
      "Enter Pricipal1000\n",
      "Enter Rate 2.5\n",
      "Enter Time 5\n",
      "The Simple interest value is 125.0\n"
     ]
    }
   ],
   "source": [
    "#this is good\n",
    "def calculateSI(P,R,T):\n",
    "    SI = P*R*T/100 \n",
    "    return SI\n",
    "\n",
    "P = float(input(\"Enter Pricipal\"))\n",
    "R = float(input(\"Enter Rate \"))\n",
    "T = float(input(\"Enter Time \"))\n",
    "\n",
    "SI = calculateSI(P,R,T)\n",
    "\n",
    "print(\"The Simple interest value is\", SI)"
   ]
  },
  {
   "cell_type": "code",
   "execution_count": null,
   "id": "9092f78d",
   "metadata": {},
   "outputs": [],
   "source": []
  }
 ],
 "metadata": {
  "kernelspec": {
   "display_name": "Python 3 (ipykernel)",
   "language": "python",
   "name": "python3"
  },
  "language_info": {
   "codemirror_mode": {
    "name": "ipython",
    "version": 3
   },
   "file_extension": ".py",
   "mimetype": "text/x-python",
   "name": "python",
   "nbconvert_exporter": "python",
   "pygments_lexer": "ipython3",
   "version": "3.11.3"
  }
 },
 "nbformat": 4,
 "nbformat_minor": 5
}
