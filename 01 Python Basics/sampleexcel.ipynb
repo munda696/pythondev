{
 "cells": [
  {
   "cell_type": "code",
   "execution_count": 1,
   "id": "8044d605",
   "metadata": {},
   "outputs": [],
   "source": [
    "import pandas as pd\n",
    "\n",
    "def export_data_to_excel(data, output_file):\n",
    "  \"\"\"Exports data to an Excel file.\"\"\"\n",
    "  with pd.ExcelWriter(output_file) as writer:\n",
    "    data.to_excel(writer, sheet_name=\"Sheet1\")\n",
    "\n",
    "if __name__ == \"__main__\":\n",
    "  data = pd.DataFrame({\"Column 1\": [1, 2, 3], \"Column 2\": [4, 5, 6]})\n",
    "  output_file = \"output_file2.xlsx\"\n",
    "  export_data_to_excel(data, output_file)"
   ]
  },
  {
   "cell_type": "code",
   "execution_count": null,
   "id": "6eceec90",
   "metadata": {},
   "outputs": [],
   "source": []
  }
 ],
 "metadata": {
  "kernelspec": {
   "display_name": "Python 3 (ipykernel)",
   "language": "python",
   "name": "python3"
  },
  "language_info": {
   "codemirror_mode": {
    "name": "ipython",
    "version": 3
   },
   "file_extension": ".py",
   "mimetype": "text/x-python",
   "name": "python",
   "nbconvert_exporter": "python",
   "pygments_lexer": "ipython3",
   "version": "3.11.3"
  }
 },
 "nbformat": 4,
 "nbformat_minor": 5
}
