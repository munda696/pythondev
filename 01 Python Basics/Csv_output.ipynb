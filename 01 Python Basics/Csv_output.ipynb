{
 "cells": [
  {
   "cell_type": "code",
   "execution_count": 18,
   "id": "8485771a",
   "metadata": {},
   "outputs": [
    {
     "name": "stdout",
     "output_type": "stream",
     "text": [
      "  Column_Name  Null Data  Actual Data\n",
      "a      Status          5         5183\n",
      "b       Units          4         5184\n"
     ]
    }
   ],
   "source": [
    "import pandas as pd\n",
    "\n",
    "# Read the CSV file into a Pandas DataFrame\n",
    "df = pd.read_csv(\"sampletrade.csv\")\n",
    "\n",
    "# Print the first few rows of the DataFrame\n",
    "#print(df.head())\n",
    "col_Status = \"STATUS\"\n",
    "col_Units = \"UNITS\"\n",
    "# Print the column names of the DataFrame\n",
    "#print(df.columns)\n",
    "\n",
    "count_no_of_rows = len(df)\n",
    "count_status = df[col_Status].isna().sum()\n",
    "count_Units = df[col_Units].isna().sum()\n",
    "\n",
    "actual_data_status = count_no_of_rows - count_status\n",
    "actual_data_Units = count_no_of_rows - count_Units\n",
    "\n",
    "# Print the number of rows and columns in the DataFrame\n",
    "#print(count_status)\n",
    "#print(count_Units)\n",
    "#print(f\"The total no of rows is {count_no_of_rows}\")\n",
    "\n",
    "# Create a DataFrame\n",
    "df1 = pd.DataFrame({\n",
    "    \"Column_Name\": [\"Status\", \"Units\"],\n",
    "    \"Null Data\": [count_status, count_Units],\n",
    "    \"Actual Data\": [actual_data_status, actual_data_Units]\n",
    "})\n",
    "\n",
    "# Set the index of the DataFrame\n",
    "df1.index = [\"a\", \"b\"]\n",
    "\n",
    "print(df1)\n",
    "# Export the DataFrame to a CSV file\n",
    "df1.to_csv(\"csvoutput1.csv\")"
   ]
  },
  {
   "cell_type": "code",
   "execution_count": null,
   "id": "29e8c67a",
   "metadata": {},
   "outputs": [],
   "source": []
  }
 ],
 "metadata": {
  "kernelspec": {
   "display_name": "Python 3 (ipykernel)",
   "language": "python",
   "name": "python3"
  },
  "language_info": {
   "codemirror_mode": {
    "name": "ipython",
    "version": 3
   },
   "file_extension": ".py",
   "mimetype": "text/x-python",
   "name": "python",
   "nbconvert_exporter": "python",
   "pygments_lexer": "ipython3",
   "version": "3.11.3"
  }
 },
 "nbformat": 4,
 "nbformat_minor": 5
}
