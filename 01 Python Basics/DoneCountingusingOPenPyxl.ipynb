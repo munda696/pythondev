{
 "cells": [
  {
   "cell_type": "code",
   "execution_count": 1,
   "id": "2b6ea751",
   "metadata": {},
   "outputs": [
    {
     "ename": "TypeError",
     "evalue": "'<' not supported between instances of 'str' and 'int'",
     "output_type": "error",
     "traceback": [
      "\u001b[1;31m---------------------------------------------------------------------------\u001b[0m",
      "\u001b[1;31mTypeError\u001b[0m                                 Traceback (most recent call last)",
      "Cell \u001b[1;32mIn[1], line 20\u001b[0m\n\u001b[0;32m     18\u001b[0m sheet_name \u001b[38;5;241m=\u001b[39m \u001b[38;5;124m\"\u001b[39m\u001b[38;5;124mSheet1\u001b[39m\u001b[38;5;124m\"\u001b[39m\n\u001b[0;32m     19\u001b[0m column_name \u001b[38;5;241m=\u001b[39m \u001b[38;5;124m\"\u001b[39m\u001b[38;5;124mTitle\u001b[39m\u001b[38;5;124m\"\u001b[39m\n\u001b[1;32m---> 20\u001b[0m count_nan \u001b[38;5;241m=\u001b[39m count_nan_using_openpyxl(excel_file, sheet_name, column_name)\n\u001b[0;32m     21\u001b[0m \u001b[38;5;28mprint\u001b[39m(\u001b[38;5;124mf\u001b[39m\u001b[38;5;124m\"\u001b[39m\u001b[38;5;124mThe number of NaN values in column \u001b[39m\u001b[38;5;124m'\u001b[39m\u001b[38;5;132;01m{\u001b[39;00mcolumn_name\u001b[38;5;132;01m}\u001b[39;00m\u001b[38;5;124m'\u001b[39m\u001b[38;5;124m is \u001b[39m\u001b[38;5;132;01m{\u001b[39;00mcount_nan\u001b[38;5;132;01m}\u001b[39;00m\u001b[38;5;124m\"\u001b[39m)\n",
      "Cell \u001b[1;32mIn[1], line 10\u001b[0m, in \u001b[0;36mcount_nan_using_openpyxl\u001b[1;34m(excel_file, sheet_name, column_name)\u001b[0m\n\u001b[0;32m      7\u001b[0m count_nan \u001b[38;5;241m=\u001b[39m \u001b[38;5;241m0\u001b[39m\n\u001b[0;32m      9\u001b[0m \u001b[38;5;28;01mfor\u001b[39;00m i \u001b[38;5;129;01min\u001b[39;00m \u001b[38;5;28mrange\u001b[39m(\u001b[38;5;241m1\u001b[39m, sheet\u001b[38;5;241m.\u001b[39mmax_row \u001b[38;5;241m+\u001b[39m \u001b[38;5;241m1\u001b[39m):\n\u001b[1;32m---> 10\u001b[0m   cell_value \u001b[38;5;241m=\u001b[39m sheet\u001b[38;5;241m.\u001b[39mcell(row\u001b[38;5;241m=\u001b[39mi, column\u001b[38;5;241m=\u001b[39mcolumn_name)\u001b[38;5;241m.\u001b[39mvalue\n\u001b[0;32m     11\u001b[0m   \u001b[38;5;28;01mif\u001b[39;00m cell_value \u001b[38;5;129;01mis\u001b[39;00m \u001b[38;5;28;01mNone\u001b[39;00m:\n\u001b[0;32m     12\u001b[0m     count_nan \u001b[38;5;241m+\u001b[39m\u001b[38;5;241m=\u001b[39m \u001b[38;5;241m1\u001b[39m\n",
      "File \u001b[1;32m~\\AppData\\Local\\anaconda3\\Lib\\site-packages\\openpyxl\\worksheet\\worksheet.py:237\u001b[0m, in \u001b[0;36mWorksheet.cell\u001b[1;34m(self, row, column, value)\u001b[0m\n\u001b[0;32m    216\u001b[0m \u001b[38;5;28;01mdef\u001b[39;00m \u001b[38;5;21mcell\u001b[39m(\u001b[38;5;28mself\u001b[39m, row, column, value\u001b[38;5;241m=\u001b[39m\u001b[38;5;28;01mNone\u001b[39;00m):\n\u001b[0;32m    217\u001b[0m \u001b[38;5;250m    \u001b[39m\u001b[38;5;124;03m\"\"\"\u001b[39;00m\n\u001b[0;32m    218\u001b[0m \u001b[38;5;124;03m    Returns a cell object based on the given coordinates.\u001b[39;00m\n\u001b[0;32m    219\u001b[0m \n\u001b[1;32m   (...)\u001b[0m\n\u001b[0;32m    234\u001b[0m \u001b[38;5;124;03m    :rtype: openpyxl.cell.cell.Cell\u001b[39;00m\n\u001b[0;32m    235\u001b[0m \u001b[38;5;124;03m    \"\"\"\u001b[39;00m\n\u001b[1;32m--> 237\u001b[0m     \u001b[38;5;28;01mif\u001b[39;00m row \u001b[38;5;241m<\u001b[39m \u001b[38;5;241m1\u001b[39m \u001b[38;5;129;01mor\u001b[39;00m column \u001b[38;5;241m<\u001b[39m \u001b[38;5;241m1\u001b[39m:\n\u001b[0;32m    238\u001b[0m         \u001b[38;5;28;01mraise\u001b[39;00m \u001b[38;5;167;01mValueError\u001b[39;00m(\u001b[38;5;124m\"\u001b[39m\u001b[38;5;124mRow or column values must be at least 1\u001b[39m\u001b[38;5;124m\"\u001b[39m)\n\u001b[0;32m    240\u001b[0m     cell \u001b[38;5;241m=\u001b[39m \u001b[38;5;28mself\u001b[39m\u001b[38;5;241m.\u001b[39m_get_cell(row, column)\n",
      "\u001b[1;31mTypeError\u001b[0m: '<' not supported between instances of 'str' and 'int'"
     ]
    }
   ],
   "source": [
    "import openpyxl\n",
    "\n",
    "def count_nan_using_openpyxl(excel_file, sheet_name, column_name):\n",
    "  \"\"\"Counts NaN using Openpyxl.\"\"\"\n",
    "  workbook = openpyxl.load_workbook(excel_file)\n",
    "  sheet = workbook[sheet_name]\n",
    "  count_nan = 0\n",
    "\n",
    "  for i in range(1, sheet.max_row + 1):\n",
    "    cell_value = sheet.cell(row=i, column=column_name).value\n",
    "    if cell_value is None:\n",
    "      count_nan += 1\n",
    "\n",
    "  return count_nan\n",
    "\n",
    "if __name__ == \"__main__\":\n",
    "  excel_file = 'Personlocal.xlsx'\n",
    "  sheet_name = \"Sheet1\"\n",
    "  column_name = \"Title\"\n",
    "  count_nan = count_nan_using_openpyxl(excel_file, sheet_name, column_name)\n",
    "  print(f\"The number of NaN values in column '{column_name}' is {count_nan}\")"
   ]
  },
  {
   "cell_type": "code",
   "execution_count": null,
   "id": "97c3f28a",
   "metadata": {},
   "outputs": [],
   "source": []
  }
 ],
 "metadata": {
  "kernelspec": {
   "display_name": "Python 3 (ipykernel)",
   "language": "python",
   "name": "python3"
  },
  "language_info": {
   "codemirror_mode": {
    "name": "ipython",
    "version": 3
   },
   "file_extension": ".py",
   "mimetype": "text/x-python",
   "name": "python",
   "nbconvert_exporter": "python",
   "pygments_lexer": "ipython3",
   "version": "3.11.3"
  }
 },
 "nbformat": 4,
 "nbformat_minor": 5
}
