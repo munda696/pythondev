{
 "cells": [
  {
   "cell_type": "code",
   "execution_count": 1,
   "id": "05cfb075",
   "metadata": {},
   "outputs": [
    {
     "name": "stdout",
     "output_type": "stream",
     "text": [
      "BusinessEntityID\n",
      "PersonType\n",
      "NameStyle\n",
      "Title\n",
      "FirstName\n",
      "MiddleName\n",
      "LastName\n",
      "Suffix\n",
      "EmailPromotion\n",
      "ModifiedDate\n"
     ]
    }
   ],
   "source": [
    "# import openpyxl module\n",
    "import openpyxl as op\n",
    " \n",
    "# Give the location of the file\n",
    "path = \"Personlocal.xlsx\"\n",
    " \n",
    "# to open the workbook\n",
    "# workbook object is created\n",
    "wb_obj = op.load_workbook(path)\n",
    "sheet_obj = wb_obj.active\n",
    " \n",
    "# print the total number of rows\n",
    "#print(sheet_obj.max_row)\n",
    "\n",
    "# Cell object is created by using\n",
    "# sheet object's cell() method.\n",
    "cell_obj = sheet_obj.cell(row = 1, column = 2)\n",
    " \n",
    "# Print value of cell object\n",
    "# using the value attribute\n",
    "#print(cell_obj.value)\n",
    "#print(sheet_obj.max_row)\n",
    "#print(sheet_obj.max_column)\n",
    "\n",
    "max_col = sheet_obj.max_column\n",
    " \n",
    "# Loop will print all columns name\n",
    "for i in range(1, max_col + 1):\n",
    "    cell_obj = sheet_obj.cell(row = 1, column = i)\n",
    "    print(cell_obj.value)"
   ]
  },
  {
   "cell_type": "code",
   "execution_count": 2,
   "id": "51887179",
   "metadata": {},
   "outputs": [
    {
     "ename": "SyntaxError",
     "evalue": "invalid syntax (1002976948.py, line 1)",
     "output_type": "error",
     "traceback": [
      "\u001b[1;36m  Cell \u001b[1;32mIn[2], line 1\u001b[1;36m\u001b[0m\n\u001b[1;33m    jupyter notebook list\u001b[0m\n\u001b[1;37m            ^\u001b[0m\n\u001b[1;31mSyntaxError\u001b[0m\u001b[1;31m:\u001b[0m invalid syntax\n"
     ]
    }
   ],
   "source": [
    "jupyter notebook list\n"
   ]
  },
  {
   "cell_type": "code",
   "execution_count": null,
   "id": "48ef4d03",
   "metadata": {},
   "outputs": [],
   "source": []
  }
 ],
 "metadata": {
  "kernelspec": {
   "display_name": "Python 3 (ipykernel)",
   "language": "python",
   "name": "python3"
  },
  "language_info": {
   "codemirror_mode": {
    "name": "ipython",
    "version": 3
   },
   "file_extension": ".py",
   "mimetype": "text/x-python",
   "name": "python",
   "nbconvert_exporter": "python",
   "pygments_lexer": "ipython3",
   "version": "3.11.3"
  }
 },
 "nbformat": 4,
 "nbformat_minor": 5
}
