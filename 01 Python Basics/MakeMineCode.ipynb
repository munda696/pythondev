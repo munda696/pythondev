{
 "cells": [
  {
   "cell_type": "code",
   "execution_count": 7,
   "id": "0f20985e",
   "metadata": {},
   "outputs": [
    {
     "ename": "IndentationError",
     "evalue": "unindent does not match any outer indentation level (<tokenize>, line 16)",
     "output_type": "error",
     "traceback": [
      "\u001b[1;36m  File \u001b[1;32m<tokenize>:16\u001b[1;36m\u001b[0m\n\u001b[1;33m    print(f\"The number of NaN values in the column '{column_name}' is {count_nan}\")\u001b[0m\n\u001b[1;37m    ^\u001b[0m\n\u001b[1;31mIndentationError\u001b[0m\u001b[1;31m:\u001b[0m unindent does not match any outer indentation level\n"
     ]
    }
   ],
   "source": [
    "import pandas as pd\n",
    "\n",
    "# Write some data to the worksheet\n",
    "\n",
    "\n",
    "def count_nan_in_excel_column(excel_file, column_name):\n",
    "  \"\"\"Counts the number of NaN values in a column in an Excel file.\"\"\"\n",
    "  df = pd.read_excel(excel_file)\n",
    "  count_nan = df[column_name].isna().sum()\n",
    "  return count_nan\n",
    "\n",
    "if __name__ == \"__main__\":\n",
    "  excel_file = \"Personlocal.xlsx\"\n",
    "  column_name = \"Suffix\"\n",
    "  count_nan = count_nan_in_excel_column(excel_file, column_name)\n",
    " print(f\"The number of NaN values in the column '{column_name}' is {count_nan}\")\n",
    "    \n",
    "  \n",
    "\n",
    "  "
   ]
  },
  {
   "cell_type": "code",
   "execution_count": null,
   "id": "8d3b50b4",
   "metadata": {},
   "outputs": [],
   "source": []
  }
 ],
 "metadata": {
  "kernelspec": {
   "display_name": "Python 3 (ipykernel)",
   "language": "python",
   "name": "python3"
  },
  "language_info": {
   "codemirror_mode": {
    "name": "ipython",
    "version": 3
   },
   "file_extension": ".py",
   "mimetype": "text/x-python",
   "name": "python",
   "nbconvert_exporter": "python",
   "pygments_lexer": "ipython3",
   "version": "3.11.3"
  }
 },
 "nbformat": 4,
 "nbformat_minor": 5
}
