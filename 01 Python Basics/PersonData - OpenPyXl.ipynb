{
 "cells": [
  {
   "cell_type": "code",
   "execution_count": 2,
   "id": "314fb638",
   "metadata": {},
   "outputs": [
    {
     "name": "stdout",
     "output_type": "stream",
     "text": [
      "19973\n"
     ]
    }
   ],
   "source": [
    "# Python program to read an excel file\n",
    " \n",
    "# import openpyxl module\n",
    "import openpyxl\n",
    " \n",
    "# Give the location of the file\n",
    "path = \"Personlocal.xlsx\"\n",
    " \n",
    "# To open the workbook\n",
    "# workbook object is created\n",
    " \n",
    "wb_obj = openpyxl.load_workbook(path)\n",
    "sheet_obj = wb_obj.active\n",
    " \n",
    "# print the total number of rows\n",
    "print(sheet_obj.max_row)"
   ]
  },
  {
   "cell_type": "code",
   "execution_count": 3,
   "id": "654e9d77",
   "metadata": {},
   "outputs": [
    {
     "name": "stdout",
     "output_type": "stream",
     "text": [
      "10\n"
     ]
    }
   ],
   "source": [
    "# importing openpyxl module\n",
    "import openpyxl\n",
    " \n",
    "# Give the location of the file\n",
    "path = \"Personlocal.xlsx\"\n",
    " \n",
    "# workbook object is created\n",
    "wb_obj = openpyxl.load_workbook(path)\n",
    " \n",
    "sheet_obj = wb_obj.active\n",
    " \n",
    "# print total number of column\n",
    "print(sheet_obj.max_column)"
   ]
  },
  {
   "cell_type": "code",
   "execution_count": 2,
   "id": "18c9396b",
   "metadata": {},
   "outputs": [],
   "source": [
    "# importing openpyxl module\n",
    "import openpyxl\n",
    " \n",
    "# Give the location of the file\n",
    "path = \"Personlocal.xlsx\"\n",
    " \n",
    "# workbook object is created\n",
    "wb_obj = openpyxl.load_workbook(path)\n",
    " \n",
    "sheet_obj = wb_obj.active\n",
    "m_row = sheet_obj.max_row\n",
    " \n",
    "# Loop will print all values\n",
    "# of first column\n",
    "for i in range(1, m_row + 1):\n",
    "    cell_obj = sheet_obj.cell(row = i, column = 2)\n",
    "    #print(cell_obj.value)"
   ]
  },
  {
   "cell_type": "code",
   "execution_count": 11,
   "id": "877d83fb",
   "metadata": {},
   "outputs": [
    {
     "name": "stdout",
     "output_type": "stream",
     "text": [
      "2 EM 0 NULL Terri Lee Duffy NULL 1 2002-02-24 00:00:00 "
     ]
    }
   ],
   "source": [
    "\n",
    "# importing openpyxl module\n",
    "import openpyxl\n",
    " \n",
    "# Give the location of the file\n",
    "path = \"Personlocal.xlsx\"\n",
    " \n",
    "# workbook object is created\n",
    "wb_obj = openpyxl.load_workbook(path)\n",
    " \n",
    "sheet_obj = wb_obj.active\n",
    "max_col = sheet_obj.max_column\n",
    "#sheet_obj.max_row\n",
    " \n",
    "# Will print a particular row value\n",
    "for i in range(1, max_col + 1):\n",
    "    cell_obj = sheet_obj.cell(row = 3, column = i)\n",
    "    print(cell_obj.value, end = \" \")"
   ]
  },
  {
   "cell_type": "code",
   "execution_count": 18,
   "id": "2654ee9b",
   "metadata": {},
   "outputs": [
    {
     "ename": "NameError",
     "evalue": "name 'NaN' is not defined",
     "output_type": "error",
     "traceback": [
      "\u001b[1;31m---------------------------------------------------------------------------\u001b[0m",
      "\u001b[1;31mNameError\u001b[0m                                 Traceback (most recent call last)",
      "Cell \u001b[1;32mIn[18], line 16\u001b[0m\n\u001b[0;32m     14\u001b[0m \u001b[38;5;28;01mfor\u001b[39;00m row \u001b[38;5;129;01min\u001b[39;00m sheet_obj\u001b[38;5;241m.\u001b[39miter_rows(min_row\u001b[38;5;241m=\u001b[39m\u001b[38;5;241m1\u001b[39m, min_col\u001b[38;5;241m=\u001b[39m\u001b[38;5;241m1\u001b[39m, max_row\u001b[38;5;241m=\u001b[39m\u001b[38;5;241m6\u001b[39m, max_col\u001b[38;5;241m=\u001b[39m\u001b[38;5;241m4\u001b[39m):\n\u001b[0;32m     15\u001b[0m     \u001b[38;5;28;01mfor\u001b[39;00m cell \u001b[38;5;129;01min\u001b[39;00m row:\n\u001b[1;32m---> 16\u001b[0m         \u001b[38;5;28;01mif\u001b[39;00m cell\u001b[38;5;241m.\u001b[39mvalue \u001b[38;5;241m==\u001b[39mNaN:\n\u001b[0;32m     17\u001b[0m             \u001b[38;5;28mprint\u001b[39m(sheet_obj\u001b[38;5;241m.\u001b[39mcell(row\u001b[38;5;241m=\u001b[39mcell\u001b[38;5;241m.\u001b[39mrow, column\u001b[38;5;241m=\u001b[39mcell\u001b[38;5;241m.\u001b[39mcolumn))\n",
      "\u001b[1;31mNameError\u001b[0m: name 'NaN' is not defined"
     ]
    }
   ],
   "source": [
    "\n",
    "# importing openpyxl module\n",
    "import openpyxl\n",
    " \n",
    "# Give the location of the file\n",
    "path = \"Personlocal.xlsx\"\n",
    " \n",
    "# workbook object is created\n",
    "wb_obj = openpyxl.load_workbook(path)\n",
    " \n",
    "sheet_obj = wb_obj.active\n",
    "max_col = sheet_obj.max_column\n",
    "#sheet_obj.max_row\n",
    " \n",
    "for row in sheet_obj.iter_rows(min_row=1, min_col=1, max_row=6, max_col=4):\n",
    "    for cell in row:\n",
    "        if cell.value ==NaN:\n",
    "            print(sheet_obj.cell(row=cell.row, column=cell.column))"
   ]
  },
  {
   "cell_type": "code",
   "execution_count": 1,
   "id": "5833e496",
   "metadata": {},
   "outputs": [
    {
     "name": "stdout",
     "output_type": "stream",
     "text": [
      "10\n"
     ]
    }
   ],
   "source": [
    "# importing openpyxl module\n",
    "import openpyxl\n",
    " \n",
    "# Give the location of the file\n",
    "path = \"Personlocal.xlsx\"\n",
    " \n",
    "# workbook object is created\n",
    "wb_obj = openpyxl.load_workbook(path)\n",
    " \n",
    "sheet_obj = wb_obj.active\n",
    " \n",
    "# print total number of column\n",
    "print(sheet_obj.max_column)\n"
   ]
  },
  {
   "cell_type": "code",
   "execution_count": null,
   "id": "dacfcb58",
   "metadata": {},
   "outputs": [],
   "source": []
  }
 ],
 "metadata": {
  "kernelspec": {
   "display_name": "Python 3 (ipykernel)",
   "language": "python",
   "name": "python3"
  },
  "language_info": {
   "codemirror_mode": {
    "name": "ipython",
    "version": 3
   },
   "file_extension": ".py",
   "mimetype": "text/x-python",
   "name": "python",
   "nbconvert_exporter": "python",
   "pygments_lexer": "ipython3",
   "version": "3.11.3"
  }
 },
 "nbformat": 4,
 "nbformat_minor": 5
}
