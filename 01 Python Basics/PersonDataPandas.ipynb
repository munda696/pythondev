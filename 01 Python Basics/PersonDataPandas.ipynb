{
 "cells": [
  {
   "cell_type": "code",
   "execution_count": 3,
   "id": "6ea2b9ba",
   "metadata": {},
   "outputs": [
    {
     "name": "stdout",
     "output_type": "stream",
     "text": [
      "The number of rows that meet the condition is 6\n"
     ]
    }
   ],
   "source": [
    "import pandas as pd\n",
    "\n",
    "def count_rows_with_condition(excel_file, column_name, condition):\n",
    "    \"\"\"Counts the number of rows in an Excel file that meet a given condition.\n",
    "\n",
    "    Args:\n",
    "        excel_file (str): The path to the Excel file.\n",
    "        column_name (str): The name of the column to check.\n",
    "        condition (str): The condition to check.\n",
    "\n",
    "    Returns:\n",
    "        int: The number of rows that meet the condition.\n",
    "    \"\"\"\n",
    "\n",
    "    df = pd.read_excel(excel_file)\n",
    "    count = 0\n",
    "    for row in df.iterrows():\n",
    "        if row[1][column_name] == condition:\n",
    "            count += 1\n",
    "    return count\n",
    "\n",
    "if __name__ == \"__main__\":\n",
    "    excel_file = \"Personlocal.xlsx\"\n",
    "    column_name = \"FirstName\"\n",
    "    condition = \"Ken\"\n",
    "    count = count_rows_with_condition(excel_file, column_name, condition)\n",
    "    print(f\"The number of rows that meet the condition is {count}\")"
   ]
  },
  {
   "cell_type": "code",
   "execution_count": 9,
   "id": "7ed1f76c",
   "metadata": {},
   "outputs": [
    {
     "name": "stdout",
     "output_type": "stream",
     "text": [
      "0        True\n",
      "1        True\n",
      "2        True\n",
      "3        True\n",
      "4        True\n",
      "         ... \n",
      "19967    True\n",
      "19968    True\n",
      "19969    True\n",
      "19970    True\n",
      "19971    True\n",
      "Name: Suffix, Length: 19972, dtype: bool\n"
     ]
    }
   ],
   "source": [
    "# importing pandas package\n",
    "import pandas as pd\n",
    " \n",
    "# making data frame from csv file\n",
    "data = pd.read_excel('Personlocal.xlsx')\n",
    " \n",
    "# creating bool series True for NaN values\n",
    "bool_series = pd.isnull(data[\"Suffix\"])\n",
    " \n",
    "# filtering data\n",
    "# displaying data only with team = NaN\n",
    "data[bool_series]\n",
    "print(bool_series)"
   ]
  },
  {
   "cell_type": "code",
   "execution_count": 17,
   "id": "bba34792",
   "metadata": {},
   "outputs": [
    {
     "name": "stdout",
     "output_type": "stream",
     "text": [
      "[nan, nan, nan, nan, nan, nan, nan, nan, nan, nan, nan, nan, nan, nan, nan, nan, nan, nan, nan, nan, nan, nan, nan, nan, nan, nan, nan, nan, nan, nan, nan, nan, nan, nan, nan, nan, nan, nan, nan, nan, nan, nan, nan, nan, nan, nan, nan, nan]\n"
     ]
    }
   ],
   "source": [
    "# importing pandas package\n",
    "import pandas as pd\n",
    "\n",
    "# making data frame from csv file\n",
    "data = pd.read_excel('Personlocal.xlsx')\n",
    " \n",
    "print(data['Suffix'].tolist())"
   ]
  },
  {
   "cell_type": "code",
   "execution_count": 18,
   "id": "2469cc83",
   "metadata": {},
   "outputs": [
    {
     "name": "stdout",
     "output_type": "stream",
     "text": [
      "The number of NaN values in the column 'Suffix' is 48\n"
     ]
    }
   ],
   "source": [
    "import pandas as pd\n",
    "\n",
    "def count_nan_in_excel_column(excel_file, column_name):\n",
    "  \"\"\"Counts the number of NaN values in a column in an Excel file.\"\"\"\n",
    "  df = pd.read_excel(excel_file)\n",
    "  count_nan = df[column_name].isna().sum()\n",
    "  return count_nan\n",
    "\n",
    "if __name__ == \"__main__\":\n",
    "  excel_file = \"Personlocal.xlsx\"\n",
    "  column_name = \"Suffix\"\n",
    "  count_nan = count_nan_in_excel_column(excel_file, column_name)\n",
    "  print(f\"The number of NaN values in the column '{column_name}' is {count_nan}\")"
   ]
  },
  {
   "cell_type": "code",
   "execution_count": null,
   "id": "5ab79622",
   "metadata": {},
   "outputs": [],
   "source": []
  }
 ],
 "metadata": {
  "kernelspec": {
   "display_name": "Python 3 (ipykernel)",
   "language": "python",
   "name": "python3"
  },
  "language_info": {
   "codemirror_mode": {
    "name": "ipython",
    "version": 3
   },
   "file_extension": ".py",
   "mimetype": "text/x-python",
   "name": "python",
   "nbconvert_exporter": "python",
   "pygments_lexer": "ipython3",
   "version": "3.11.3"
  }
 },
 "nbformat": 4,
 "nbformat_minor": 5
}
