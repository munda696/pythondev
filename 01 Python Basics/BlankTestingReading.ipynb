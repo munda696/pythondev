{
 "cells": [
  {
   "cell_type": "code",
   "execution_count": 5,
   "id": "8c55fab5",
   "metadata": {},
   "outputs": [
    {
     "name": "stdout",
     "output_type": "stream",
     "text": [
      "The number of NaN values in the column 'Title' is 48\n"
     ]
    }
   ],
   "source": [
    "import pandas as pd\n",
    "\n",
    "excel_file = \"Personlocal.xlsx\"\n",
    "\n",
    "col_Title = \"Title\"\n",
    "col_MiddleName = \"MiddleName\"\n",
    "col_Suffix = \"Suffix\"\n",
    "\n",
    "df = pd.read_excel(excel_file)\n",
    "\n",
    "count_Tt = df[col_MiddleName].isna().sum()\n",
    "count_TtBlnk = df[col_Title].isna().sum()\n",
    "#count_Su = df[col_Suffix].isna().sum()\n",
    "\n",
    "# Count the number of NaN values in each column\n",
    "#nan_count = df.isnull().sum()\n",
    "\n",
    "print(f\"The number of NaN values in the column '{col_Title}' is {count_TtBlnk}\")  \n",
    "#print(f\"The number of NaN values in the column '{col_MiddleName}' is {count_Mn}\")  \n",
    "#print(f\"The number of NaN values in the column '{col_Suffix}' is {count_Su}\")  \n",
    "\n",
    "# Write the NaN count to the Excel file\n",
    "#df['NaN Count'] = count_nan\n",
    "# Save the Excel file\n",
    "#df.to_excel('output1.xlsx')\n",
    "\n",
    "# Write the result to a new Excel file\n",
    "\n"
   ]
  },
  {
   "cell_type": "code",
   "execution_count": null,
   "id": "17fab69c",
   "metadata": {},
   "outputs": [],
   "source": []
  }
 ],
 "metadata": {
  "kernelspec": {
   "display_name": "Python 3 (ipykernel)",
   "language": "python",
   "name": "python3"
  },
  "language_info": {
   "codemirror_mode": {
    "name": "ipython",
    "version": 3
   },
   "file_extension": ".py",
   "mimetype": "text/x-python",
   "name": "python",
   "nbconvert_exporter": "python",
   "pygments_lexer": "ipython3",
   "version": "3.11.3"
  }
 },
 "nbformat": 4,
 "nbformat_minor": 5
}
