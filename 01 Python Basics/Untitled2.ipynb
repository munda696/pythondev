{
 "cells": [
  {
   "cell_type": "code",
   "execution_count": 6,
   "id": "7169bf7f",
   "metadata": {},
   "outputs": [
    {
     "ename": "SyntaxError",
     "evalue": "invalid syntax (1291890107.py, line 1)",
     "output_type": "error",
     "traceback": [
      "\u001b[1;36m  Cell \u001b[1;32mIn[6], line 1\u001b[1;36m\u001b[0m\n\u001b[1;33m    Sure, here is a Python program to write output in Excel file using pandas:\u001b[0m\n\u001b[1;37m                    ^\u001b[0m\n\u001b[1;31mSyntaxError\u001b[0m\u001b[1;31m:\u001b[0m invalid syntax\n"
     ]
    }
   ],
   "source": [
    "\n",
    "Sure, here is a Python program to write output in Excel file using pandas:\n",
    "\n",
    "Python\n",
    "import pandas as pd\n",
    "\n",
    "def write_output_to_excel(data):\n",
    "    # Create a Pandas DataFrame\n",
    "    df = pd.DataFrame(data)\n",
    "\n",
    "    # Write the DataFrame to an Excel file\n",
    "    df.to_excel('output3.xlsx')\n",
    "\n",
    "if __name__ == '__main__':\n",
    "    # Create some data to write to the Excel file\n",
    "    data = [['Name', 'Age', 'Country'],\n",
    "             ['John Doe', 30, 'United States'],\n",
    "             ['Jane Doe', 25, 'Canada']]\n",
    "\n",
    "    # Write the data to the Excel file\n",
    "    write_output_to_excel(data)"
   ]
  },
  {
   "cell_type": "code",
   "execution_count": null,
   "id": "77c28792",
   "metadata": {},
   "outputs": [],
   "source": []
  }
 ],
 "metadata": {
  "kernelspec": {
   "display_name": "Python 3 (ipykernel)",
   "language": "python",
   "name": "python3"
  },
  "language_info": {
   "codemirror_mode": {
    "name": "ipython",
    "version": 3
   },
   "file_extension": ".py",
   "mimetype": "text/x-python",
   "name": "python",
   "nbconvert_exporter": "python",
   "pygments_lexer": "ipython3",
   "version": "3.11.3"
  }
 },
 "nbformat": 4,
 "nbformat_minor": 5
}
