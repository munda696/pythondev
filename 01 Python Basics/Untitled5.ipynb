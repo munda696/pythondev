{
 "cells": [
  {
   "cell_type": "code",
   "execution_count": 4,
   "id": "e5c71eef",
   "metadata": {},
   "outputs": [
    {
     "name": "stdout",
     "output_type": "stream",
     "text": [
      "         Name  Age Country\n",
      "0    John Doe   30     USA\n",
      "1    Jane Doe   25      UK\n",
      "2  John Smith   40     USA\n",
      "3  Jane Smith   35      UK\n",
      "4\n"
     ]
    }
   ],
   "source": [
    "import pandas as pd\n",
    "\n",
    "# Create a DataFrame\n",
    "df = pd.DataFrame({\n",
    "    \"Name\": [\"John Doe\", \"Jane Doe\", \"John Smith\", \"Jane Smith\"],\n",
    "    \"Age\": [30, 25, 40, 35],\n",
    "    \"Country\": [\"USA\", \"UK\", \"USA\", \"UK\"]\n",
    "})\n",
    "\n",
    "# Get the number of rows except header\n",
    "number_of_rows = len(df) \n",
    "\n",
    "# Print the number of rows\n",
    "print(df)\n",
    "print(number_of_rows)"
   ]
  },
  {
   "cell_type": "code",
   "execution_count": null,
   "id": "a02ce263",
   "metadata": {},
   "outputs": [],
   "source": []
  }
 ],
 "metadata": {
  "kernelspec": {
   "display_name": "Python 3 (ipykernel)",
   "language": "python",
   "name": "python3"
  },
  "language_info": {
   "codemirror_mode": {
    "name": "ipython",
    "version": 3
   },
   "file_extension": ".py",
   "mimetype": "text/x-python",
   "name": "python",
   "nbconvert_exporter": "python",
   "pygments_lexer": "ipython3",
   "version": "3.11.3"
  }
 },
 "nbformat": 4,
 "nbformat_minor": 5
}
